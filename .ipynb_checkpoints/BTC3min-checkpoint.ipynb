{
 "cells": [
  {
   "cell_type": "code",
   "execution_count": 71,
   "metadata": {},
   "outputs": [
    {
     "name": "stderr",
     "output_type": "stream",
     "text": [
      "\n",
      "KeyboardInterrupt\n",
      "\n"
     ]
    }
   ],
   "source": [
    "from binance import Client\n",
    "import pandas as pd\n",
    "from bs4 import BeautifulSoup\n",
    "import requests\n",
    "import time\n",
    "import schedule\n",
    "import math\n",
    "import scipy.stats as st\n",
    "import ta\n",
    "import statistics\n",
    "import smtplib\n",
    "import os\n",
    "import time\n",
    "from time import sleep\n",
    "import re\n",
    "import pandas as pd\n",
    "import matplotlib.pyplot as plt\n",
    "import pandas_ta as ta\n",
    "import numpy as np\n",
    "import datetime\n",
    "\n",
    "api_key=\"pTZlrkaCbTEoa17nor24Tw53OWYFlMBQIOmaftSLcjg5lASfhZ0048zcxOZLrBgN\"\n",
    "api_secret=\"PxcyhPku5uQon1krBa3glze2sF7oZQ3gqb9GRVkh25OFvCtyAkML139l4z9d9BwG\"\n",
    "client=Client(api_key,api_secret)\n",
    "client.get_account()"
   ]
  },
  {
   "cell_type": "code",
   "execution_count": null,
   "metadata": {},
   "outputs": [],
   "source": [
    "def getdata(symbol, interval, lookback):\n",
    "    frame=pd.DataFrame(client.get_historical_klines(symbol,interval,lookback))\n",
    "    frame=frame.iloc[:,:6]\n",
    "    frame.columns=['Time','Open','High','Low', 'Close','Volume']\n",
    "    frame=frame.set_index('Time')\n",
    "    frame.index=pd.to_datetime(frame.index,unit='ms')\n",
    "    frame = frame.astype(float)\n",
    "    frame['rsi']=ta.momentum.rsi(frame.Close, window=14)\n",
    "    frame[\"EMA_20\"] = ta.ema(frame.Close, length=20)\n",
    "    frame[\"Close Lag 5\"]=frame['Close'].shift(5, axis=0)\n",
    "    frame[\"Return 5m\"]=(frame['Close']-frame['Close Lag 5'])/frame['Close Lag 5']\n",
    "    frame['CRYPTO']=symbol\n",
    "    frame['Date_time'] = frame.index\n",
    "    frame['Height']=abs(frame['High']-frame['Low'])\n",
    "    frame['Vol std'] = frame['Volume'].rolling(50).std()\n",
    "    return frame\n",
    "\n",
    "def check_decimals(symbol):\n",
    "    info = client.get_symbol_info(symbol)\n",
    "    val = info['filters'][2]['stepSize']\n",
    "    decimal = 0\n",
    "    is_dec = False\n",
    "    for c in val:\n",
    "        if is_dec is True:\n",
    "            decimal += 1\n",
    "        if c == '1':\n",
    "            break\n",
    "        if c == '.':\n",
    "            is_dec = True\n",
    "    return decimal"
   ]
  },
  {
   "cell_type": "code",
   "execution_count": 85,
   "metadata": {},
   "outputs": [],
   "source": [
    "path='C:\\\\Users\\\\57314\\\\OneDrive - Universidad de los Andes\\\\Binance Automation\\\\DailyTrading.xlsx'\n",
    "trading_df=pd.read_excel(path)"
   ]
  },
  {
   "cell_type": "code",
   "execution_count": 90,
   "metadata": {},
   "outputs": [
    {
     "data": {
      "text/plain": [
       "-2.2675804358368623"
      ]
     },
     "execution_count": 90,
     "metadata": {},
     "output_type": "execute_result"
    }
   ],
   "source": [
    "df_1=getdata('BTCUSDT','3m','2 h ago UTC')\n",
    "macd_df=df_1.ta.macd(close='close', fast=3, slow=12, signal=15, append=True)\n",
    "price=df_1.Close.iloc[-1]\n",
    "df_1['MACD']=macd_df[macd_df.columns[0]]\n",
    "df_1.iloc[-1]['MACD']"
   ]
  },
  {
   "cell_type": "code",
   "execution_count": null,
   "metadata": {},
   "outputs": [],
   "source": [
    "cry='BTCUSDT'\n",
    "qtyUSD=20\n",
    "initial=datetime.datetime.now()\n",
    "timeRun=0\n",
    "end=False\n",
    "while timeRun<30000 and end==False:\n",
    "    time.sleep(20)\n",
    "    final=datetime.datetime.now()\n",
    "    timeRun=(final-initial).seconds\n",
    "    df_1=getdata(cry,'3m','2 h ago UTC')\n",
    "    macd_df=df_1.ta.macd(close='close', fast=3, slow=12, signal=15, append=True)\n",
    "    price=df_1.Close.iloc[-1]\n",
    "    df_1['MACD']=macd_df[macd_df.columns[0]]\n",
    "    dec=check_decimals(cry)\n",
    "    qty = round(qtyUSD / price, dec)\n",
    "    gain=0\n",
    "    maxGain=0\n",
    "    rangeTime= (final-trading_df.iloc[-1]['date Transaction']).total_seconds() / 60.0\n",
    "    if trading_df.iloc[-1]['Move']=='BUY':\n",
    "        if pd.isna(trading_df.iloc[-1]['Max value']):\n",
    "            if price > 1.002* trading_df.iloc[-1]['Crypto Value']:\n",
    "                trading_df.at[len(trading_df)-1,'Max value']=price     \n",
    "        else:\n",
    "            if price > trading_df.iloc[-1]['Max value']:\n",
    "                trading_df.at[len(trading_df)-1,'Max value'] = price\n",
    "                print(str(price))\n",
    "            elif price > 1.002* trading_df.iloc[-1]['Crypto Value']:\n",
    "                gain= price - trading_df.iloc[-1]['Crypto Value']\n",
    "                maxGain=trading_df.iloc[-1]['Max value'] -trading_df.iloc[-1]['Crypto Value']\n",
    "                if rangeTime<10:\n",
    "                    if gain< maxGain *0.7:\n",
    "                        #order=client.create_order(symbol=cry,side='SELL', type= 'MARKET', quantity=qty)\n",
    "                        print('Enter Sell: ' + str(gain) + \"and Price: \"+ str(price))\n",
    "                        end=True\n",
    "                elif rangeTime<60:\n",
    "                    if gain< maxGain *0.7:\n",
    "                            if df_1.iloc[-1]['MACD']<0:\n",
    "                                #order=client.create_order(symbol=cry,side='SELL', type= 'MARKET', quantity=qty)\n",
    "                                print('Enter Sell: ' + str(gain) + \"and Price: \"+ str(price))\n",
    "                            elif gain< maxGain *0.4:\n",
    "                                #order=client.create_order(symbol=cry,side='SELL', type= 'MARKET', quantity=qty)\n",
    "                                print('Enter Sell: ' + str(gain) + \"and Price: \"+ str(price))\n",
    "                else:\n",
    "                    if gain< maxGain *0.9:\n",
    "                        df_5=getdata(cry,'5m','3 h ago UTC')\n",
    "                        macd_df=df_1.ta.macd(close='close', fast=3, slow=12, signal=15, append=True)\n",
    "                        price=df_5.Close.iloc[-1]\n",
    "                        df_5['MACD']=macd_df[macd_df.columns[0]]\n",
    "                        if df_5.iloc[-1]['MACD']<0:\n",
    "                            #order=client.create_order(symbol=cry,side='SELL', type= 'MARKET', quantity=qty)\n",
    "                            print('Enter Sell: ' + str(gain) + \"and Price: \"+ str(price))\n",
    "                        elif gain< maxGain *0.8:\n",
    "                            #order=client.create_order(symbol=cry,side='SELL', type= 'MARKET', quantity=qty)\n",
    "                            print('Enter Sell: ' + str(gain) + \"and Price: \"+ str(price))\n",
    "                    \n",
    "                    \n",
    "            "
   ]
  },
  {
   "cell_type": "code",
   "execution_count": 86,
   "metadata": {},
   "outputs": [
    {
     "data": {
      "text/html": [
       "<div>\n",
       "<style scoped>\n",
       "    .dataframe tbody tr th:only-of-type {\n",
       "        vertical-align: middle;\n",
       "    }\n",
       "\n",
       "    .dataframe tbody tr th {\n",
       "        vertical-align: top;\n",
       "    }\n",
       "\n",
       "    .dataframe thead th {\n",
       "        text-align: right;\n",
       "    }\n",
       "</style>\n",
       "<table border=\"1\" class=\"dataframe\">\n",
       "  <thead>\n",
       "    <tr style=\"text-align: right;\">\n",
       "      <th></th>\n",
       "      <th>Move</th>\n",
       "      <th>Coin</th>\n",
       "      <th>amount Crypto</th>\n",
       "      <th>Amount USD</th>\n",
       "      <th>Crypto Value</th>\n",
       "      <th>date Transaction</th>\n",
       "      <th>Max value</th>\n",
       "    </tr>\n",
       "  </thead>\n",
       "  <tbody>\n",
       "    <tr>\n",
       "      <th>0</th>\n",
       "      <td>BUY</td>\n",
       "      <td>BTCUSDT</td>\n",
       "      <td>0.000856</td>\n",
       "      <td>20</td>\n",
       "      <td>23356.2</td>\n",
       "      <td>2022-08-05 10:00:00</td>\n",
       "      <td>NaN</td>\n",
       "    </tr>\n",
       "    <tr>\n",
       "      <th>1</th>\n",
       "      <td>SELL</td>\n",
       "      <td>BTCUSDT</td>\n",
       "      <td>0.000856</td>\n",
       "      <td>20</td>\n",
       "      <td>23356.2</td>\n",
       "      <td>2022-08-05 10:00:00</td>\n",
       "      <td>NaN</td>\n",
       "    </tr>\n",
       "    <tr>\n",
       "      <th>2</th>\n",
       "      <td>BUY</td>\n",
       "      <td>BTCUSDT</td>\n",
       "      <td>0.000856</td>\n",
       "      <td>20</td>\n",
       "      <td>23156.2</td>\n",
       "      <td>2022-08-05 10:00:00</td>\n",
       "      <td>NaN</td>\n",
       "    </tr>\n",
       "  </tbody>\n",
       "</table>\n",
       "</div>"
      ],
      "text/plain": [
       "   Move     Coin  amount Crypto  Amount USD  Crypto Value    date Transaction  \\\n",
       "0   BUY  BTCUSDT       0.000856          20       23356.2 2022-08-05 10:00:00   \n",
       "1  SELL  BTCUSDT       0.000856          20       23356.2 2022-08-05 10:00:00   \n",
       "2   BUY  BTCUSDT       0.000856          20       23156.2 2022-08-05 10:00:00   \n",
       "\n",
       "   Max value  \n",
       "0        NaN  \n",
       "1        NaN  \n",
       "2        NaN  "
      ]
     },
     "execution_count": 86,
     "metadata": {},
     "output_type": "execute_result"
    }
   ],
   "source": [
    "trading_df"
   ]
  },
  {
   "cell_type": "code",
   "execution_count": 84,
   "metadata": {},
   "outputs": [
    {
     "data": {
      "text/plain": [
       "485.2971915333334"
      ]
     },
     "execution_count": 84,
     "metadata": {},
     "output_type": "execute_result"
    }
   ],
   "source": [
    "(datetime.datetime.now()-trading_df.iloc[-1]['date Transaction']).total_seconds() / 60.0"
   ]
  },
  {
   "cell_type": "code",
   "execution_count": null,
   "metadata": {},
   "outputs": [],
   "source": []
  }
 ],
 "metadata": {
  "kernelspec": {
   "display_name": "Python 3",
   "language": "python",
   "name": "python3"
  },
  "language_info": {
   "codemirror_mode": {
    "name": "ipython",
    "version": 3
   },
   "file_extension": ".py",
   "mimetype": "text/x-python",
   "name": "python",
   "nbconvert_exporter": "python",
   "pygments_lexer": "ipython3",
   "version": "3.8.3"
  }
 },
 "nbformat": 4,
 "nbformat_minor": 4
}
